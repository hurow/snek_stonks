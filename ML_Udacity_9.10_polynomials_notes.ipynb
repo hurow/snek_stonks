{
 "cells": [
  {
   "cell_type": "code",
   "execution_count": 1,
   "metadata": {},
   "outputs": [],
   "source": [
    "'''Minimizer in Python''' ###import util you dumby\n",
    "import pandas as pd\n",
    "pd.core.common.is_list_like = pd.api.types.is_list_like\n",
    "import pandas_datareader as web\n",
    "import matplotlib.pyplot as plt\n",
    "import numpy as np\n",
    "import scipy.optimize as spo\n",
    "%matplotlib inline\n",
    "\n",
    "\n",
    "from matplotlib import style\n"
   ]
  },
  {
   "cell_type": "code",
   "execution_count": 2,
   "metadata": {},
   "outputs": [
    {
     "name": "stdout",
     "output_type": "stream",
     "text": [
      "     4      3     2\n",
      "1.5 x - 10 x - 5 x + 60 x + 50\n",
      "Optimization terminated successfully.    (Exit mode 0)\n",
      "            Current function value: 14523.326758127116\n",
      "            Iterations: 7\n",
      "            Function evaluations: 69\n",
      "            Gradient evaluations: 7\n",
      "Fitted polynomial: 1.5493839607715185*x^4 + -9.665315628040663*x^3 + -6.436069970638969*x^2 + 53.58615561553044*x + 44.04241085952867\n"
     ]
    },
    {
     "data": {
      "image/png": "[encoded data removed]",
      "text/plain": [
       "<Figure size 432x288 with 1 Axes>"
      ]
     },
     "metadata": {
      "needs_background": "light"
     },
     "output_type": "display_data"
    }
   ],
   "source": [
    "def error_poly(C, data):\n",
    "    \"\"\"Compute error between given polynomial and observed data.\n",
    "    Parameters\n",
    "    ----------\n",
    "    C: numpy.poly1d object or equivalent array representing polynomial coefficients\n",
    "    data: 2D array where each row is a point (x, y)\n",
    "    Returns error as a single real value.\n",
    "    \"\"\"\n",
    "\n",
    "    # Metric: Sum of squared Y-axis differences\n",
    "    err = np.sum((data[:, 1] - np.polyval(C, data[:, 0])) ** 2)\n",
    "    ##<add.this>(<1th index of array> - <polynomial_classpoly>(<poly1d object>, <0th index of array>)\n",
    "    return err\n",
    "\n",
    "\n",
    "def fit_poly(data, error_func, degree=4): #polyfit() https://www.youtube.com/watch?v=ro5ftxuD6is\n",
    "    ##^^you can create a function using an array with polyfit ex: polyfit(x,y,1)(<array>,<array>,degree)\n",
    "    \"\"\"Fit a polynomial to given data, using supplied error function.\n",
    "    Parameters\n",
    "    ----------\n",
    "    data: 2D array where each row is a point (x, y)\n",
    "    error_func: function that computes the error between a polynomial and observed data\n",
    "    Returns polynomial that minimizes the error function.\n",
    "    \"\"\"\n",
    "\n",
    "    # Generate initial guess for polynomial model (all coeffs = 1)\n",
    "    Cguess = np.poly1d(np.ones(degree + 1, dtype=np.float32)) ##polynomial with 1's as C0's 1 greater than degree\n",
    "    ##<initial_guess = <1dpolynomial(<C0's ones>(<degree> + <1>, <dtype=np.float32))\n",
    "    # Plot initial guess (optional)\n",
    "    x = np.linspace(-6, 6, 21) #the x-increments of the plot\n",
    "    plt.plot(x, np.polyval(Cguess, x), 'm--', linewidth=2.0, label=\"Initial guess\")\n",
    "    # Call optimizer to minimize error function\n",
    "    result = spo.minimize(error_poly, Cguess, args=(data,), method='SLSQP', options={'disp': True})\n",
    "    return np.poly1d(result.x)  # convert optimal result into a poly1d obeject and return\n",
    "\n",
    "\n",
    "def test_run():\n",
    "    # Define original polynomial\n",
    "    p = np.poly1d([1.5, -10, -5, 60, 50])\n",
    "    Corig = np.poly1d(p)\n",
    "    print(Corig)\n",
    "    #print(\"Original polynomial: {}*x^4 + {}*x^3 + {}*x^2 + {}*x + {}\".format(Corig[4], Corig[3], Corig[2], Corig[1], Corig[0]))\n",
    "    Xorig = np.linspace(-6, 6, 21)\n",
    "    Yorig = np.polyval(Corig, Xorig)\n",
    "    plt.plot(Xorig, Yorig, 'b--', linewidth=2.0, label=\"Original polynomial\")\n",
    "\n",
    "    # Generate noisy data points\n",
    "    noise_sigma = 30.0\n",
    "    noise = np.random.normal(0, noise_sigma, Yorig.shape)\n",
    "    data = np.asarray([Xorig, Yorig + noise]).T  # Convert the input to an array, then transpose\n",
    "    plt.plot(data[:, 0], data[:, 1], 'go', label=\"Data points\")\n",
    "\n",
    "    # Try to fit a polynomial to this data\n",
    "    Cfit = fit_poly(data, error_poly)\n",
    "    print(\"Fitted polynomial: {}*x^4 + {}*x^3 + {}*x^2 + {}*x + {}\".format(Cfit[4], Cfit[3], Cfit[2], Cfit[1], Cfit[0]))\n",
    "    plt.plot(data[:, 0], np.polyval(Cfit, data[:, 0]), 'r--', linewidth=2.0, label=\"Fitted polynomial\")\n",
    "\n",
    "    # Add a legend and show plot\n",
    "    plt.legend()\n",
    "    plt.show()\n",
    "\n",
    "\n",
    "if __name__ == \"__main__\":\n",
    "    test_run()"
   ]
  },
  {
   "cell_type": "code",
   "execution_count": null,
   "metadata": {},
   "outputs": [],
   "source": []
  },
  {
   "cell_type": "code",
   "execution_count": null,
   "metadata": {},
   "outputs": [],
   "source": []
  },
  {
   "cell_type": "code",
   "execution_count": null,
   "metadata": {},
   "outputs": [],
   "source": []
  },
  {
   "cell_type": "code",
   "execution_count": null,
   "metadata": {},
   "outputs": [],
   "source": []
  },
  {
   "cell_type": "code",
   "execution_count": null,
   "metadata": {},
   "outputs": [],
   "source": []
  },
  {
   "cell_type": "code",
   "execution_count": null,
   "metadata": {},
   "outputs": [],
   "source": []
  },
  {
   "cell_type": "code",
   "execution_count": null,
   "metadata": {},
   "outputs": [],
   "source": []
  },
  {
   "cell_type": "code",
   "execution_count": null,
   "metadata": {},
   "outputs": [],
   "source": []
  },
  {
   "cell_type": "code",
   "execution_count": null,
   "metadata": {},
   "outputs": [],
   "source": []
  },
  {
   "cell_type": "code",
   "execution_count": null,
   "metadata": {},
   "outputs": [],
   "source": []
  },
  {
   "cell_type": "code",
   "execution_count": null,
   "metadata": {},
   "outputs": [],
   "source": []
  },
  {
   "cell_type": "code",
   "execution_count": null,
   "metadata": {},
   "outputs": [],
   "source": []
  }
 ],
 "metadata": {
  "kernelspec": {
   "display_name": "Python 3",
   "language": "python",
   "name": "python3"
  },
  "language_info": {
   "codemirror_mode": {
    "name": "ipython",
    "version": 3
   },
   "file_extension": ".py",
   "mimetype": "text/x-python",
   "name": "python",
   "nbconvert_exporter": "python",
   "pygments_lexer": "ipython3",
   "version": "3.6.8"
  }
 },
 "nbformat": 4,
 "nbformat_minor": 2
}
