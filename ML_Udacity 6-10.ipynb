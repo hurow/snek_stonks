{
 "cells": [
  {
   "cell_type": "code",
   "execution_count": 1,
   "metadata": {},
   "outputs": [],
   "source": [
    "'''Udacity Course; ML for Finance''' ###import util you dumby\n",
    "import os\n",
    "import numpy as np\n",
    "import pandas as pd\n",
    "pd.core.common.is_list_like = pd.api.types.is_list_like\n",
    "import pandas_datareader as web\n",
    "import matplotlib.pyplot as plt\n",
    "import datetime as dt\n",
    "\n",
    "from matplotlib import style\n",
    "from datetime import date\n"
   ]
  },
  {
   "cell_type": "code",
   "execution_count": 2,
   "metadata": {},
   "outputs": [
    {
     "ename": "UnboundLocalError",
     "evalue": "local variable 'df_final' referenced before assignment",
     "output_type": "error",
     "traceback": [
      "\u001b[0;31m---------------------------------------------------------------------------\u001b[0m",
      "\u001b[0;31mUnboundLocalError\u001b[0m                         Traceback (most recent call last)",
      "\u001b[0;32m<ipython-input-2-401f022242cd>\u001b[0m in \u001b[0;36m<module>\u001b[0;34m\u001b[0m\n\u001b[1;32m     80\u001b[0m \u001b[0;34m\u001b[0m\u001b[0m\n\u001b[1;32m     81\u001b[0m \u001b[0;32mif\u001b[0m \u001b[0m__name__\u001b[0m \u001b[0;34m==\u001b[0m \u001b[0;34m\"__main__\"\u001b[0m\u001b[0;34m:\u001b[0m\u001b[0;34m\u001b[0m\u001b[0;34m\u001b[0m\u001b[0m\n\u001b[0;32m---> 82\u001b[0;31m     \u001b[0mtest_run\u001b[0m\u001b[0;34m(\u001b[0m\u001b[0;34m)\u001b[0m\u001b[0;34m\u001b[0m\u001b[0;34m\u001b[0m\u001b[0m\n\u001b[0m",
      "\u001b[0;32m<ipython-input-2-401f022242cd>\u001b[0m in \u001b[0;36mtest_run\u001b[0;34m()\u001b[0m\n\u001b[1;32m     57\u001b[0m     \u001b[0mend_date\u001b[0m \u001b[0;34m=\u001b[0m \u001b[0;34m\"2019-05-17\"\u001b[0m\u001b[0;34m\u001b[0m\u001b[0;34m\u001b[0m\u001b[0m\n\u001b[1;32m     58\u001b[0m     \u001b[0mdates\u001b[0m \u001b[0;34m=\u001b[0m \u001b[0mpd\u001b[0m\u001b[0;34m.\u001b[0m\u001b[0mdate_range\u001b[0m\u001b[0;34m(\u001b[0m\u001b[0mstart_date\u001b[0m\u001b[0;34m,\u001b[0m \u001b[0mend_date\u001b[0m\u001b[0;34m)\u001b[0m  \u001b[0;31m# date range as index\u001b[0m\u001b[0;34m\u001b[0m\u001b[0;34m\u001b[0m\u001b[0m\n\u001b[0;32m---> 59\u001b[0;31m     \u001b[0mdf\u001b[0m \u001b[0;34m=\u001b[0m \u001b[0mget_data\u001b[0m\u001b[0;34m(\u001b[0m\u001b[0msymbol_list\u001b[0m\u001b[0;34m,\u001b[0m \u001b[0mdates\u001b[0m\u001b[0;34m)\u001b[0m  \u001b[0;31m# get data for each symbol\u001b[0m\u001b[0;34m\u001b[0m\u001b[0;34m\u001b[0m\u001b[0m\n\u001b[0m\u001b[1;32m     60\u001b[0m \u001b[0;34m\u001b[0m\u001b[0m\n\u001b[1;32m     61\u001b[0m     \u001b[0;31m#Compute Daily returns\u001b[0m\u001b[0;34m\u001b[0m\u001b[0;34m\u001b[0m\u001b[0;34m\u001b[0m\u001b[0m\n",
      "\u001b[0;32m<ipython-input-2-401f022242cd>\u001b[0m in \u001b[0;36mget_data\u001b[0;34m(symbols, dates)\u001b[0m\n\u001b[1;32m     29\u001b[0m             usecols=[\"Date\", \"Adj Close\"], na_values=[\"nan\"])\n\u001b[1;32m     30\u001b[0m         \u001b[0mdf_temp\u001b[0m \u001b[0;34m=\u001b[0m \u001b[0mdf_temp\u001b[0m\u001b[0;34m.\u001b[0m\u001b[0mrename\u001b[0m\u001b[0;34m(\u001b[0m\u001b[0mcolumns\u001b[0m\u001b[0;34m=\u001b[0m\u001b[0;34m{\u001b[0m\u001b[0;34m\"Adj Close\"\u001b[0m\u001b[0;34m:\u001b[0m \u001b[0msymbol\u001b[0m\u001b[0;34m}\u001b[0m\u001b[0;34m)\u001b[0m\u001b[0;34m\u001b[0m\u001b[0;34m\u001b[0m\u001b[0m\n\u001b[0;32m---> 31\u001b[0;31m         \u001b[0mdf_final\u001b[0m \u001b[0;34m=\u001b[0m \u001b[0mdf_final\u001b[0m\u001b[0;34m.\u001b[0m\u001b[0mjoin\u001b[0m\u001b[0;34m(\u001b[0m\u001b[0mdf_temp\u001b[0m\u001b[0;34m)\u001b[0m\u001b[0;34m\u001b[0m\u001b[0;34m\u001b[0m\u001b[0m\n\u001b[0m\u001b[1;32m     32\u001b[0m         \u001b[0;32mif\u001b[0m \u001b[0msymbol\u001b[0m \u001b[0;34m==\u001b[0m \u001b[0;34m\"SPY\"\u001b[0m\u001b[0;34m:\u001b[0m  \u001b[0;31m# drop dates SPY did not trade\u001b[0m\u001b[0;34m\u001b[0m\u001b[0;34m\u001b[0m\u001b[0m\n\u001b[1;32m     33\u001b[0m             \u001b[0mdf_final\u001b[0m \u001b[0;34m=\u001b[0m \u001b[0mdf_final\u001b[0m\u001b[0;34m.\u001b[0m\u001b[0mdropna\u001b[0m\u001b[0;34m(\u001b[0m\u001b[0msubset\u001b[0m\u001b[0;34m=\u001b[0m\u001b[0;34m[\u001b[0m\u001b[0;34m\"SPY\"\u001b[0m\u001b[0;34m]\u001b[0m\u001b[0;34m)\u001b[0m\u001b[0;34m\u001b[0m\u001b[0;34m\u001b[0m\u001b[0m\n",
      "\u001b[0;31mUnboundLocalError\u001b[0m: local variable 'df_final' referenced before assignment"
     ]
    }
   ],
   "source": [
    "\"\"\"6.5, 6.6, 6.13 How to plot a histogram\"\"\"\n",
    "\n",
    "import numpy as np\n",
    "import pandas as pd\n",
    "import matplotlib.pyplot as plt\n",
    "import os\n",
    "\n",
    "def fill_missing_values(df_data):\n",
    "    \"\"\"Fill missing values in data frame, in place.\"\"\"\n",
    "    ##########################################################\n",
    "    pass  # TODO: Your code here (DO NOT modify anything else)\n",
    "    ##########################################################\n",
    "\n",
    "\n",
    "def symbol_to_path(symbol):\n",
    "    \"\"\"Return CSV file path given ticker symbol.\"\"\"\n",
    "    return os.path.join(\"{}.csv\".format(str(symbol)))\n",
    "\n",
    "\n",
    "def get_data(symbols, dates):\n",
    "    \"\"\"Read stock data (adjusted close) for given symbols from CSV files.\"\"\"\n",
    "    df = pd.DataFrame(index=dates)\n",
    "    if \"SPY\" not in symbols:  # add SPY for reference, if absent\n",
    "        symbols.insert(0, \"SPY\")\n",
    "\n",
    "    for symbol in symbols:\n",
    "        file_path = symbol_to_path(symbol)\n",
    "        df_temp = pd.read_csv(file_path, parse_dates=True, index_col=\"Date\",\n",
    "            usecols=[\"Date\", \"Adj Close\"], na_values=[\"nan\"])\n",
    "        df_temp = df_temp.rename(columns={\"Adj Close\": symbol})\n",
    "        df_final = df_final.join(df_temp)\n",
    "        if symbol == \"SPY\":  # drop dates SPY did not trade\n",
    "            df_final = df_final.dropna(subset=[\"SPY\"])\n",
    "\n",
    "    return df\n",
    "\n",
    "\n",
    "def plot_data(df, title=\"Stock prices\", xlabel=\"Date\", ylabel=\"Price\"):\n",
    "    \"\"\"Plot stock prices with a custom title and meaningful axis labels.\"\"\"\n",
    "    ax = df.plot(title=title, fontsize=12)\n",
    "    ax.set_xlabel(xlabel)\n",
    "    ax.set_ylabel(ylabel)\n",
    "    plt.show()\n",
    "\n",
    "def compute_daily_returns(df):\n",
    "    \"\"\"Compute and return the daily return values.\"\"\"\n",
    "    daily_returns = df.copy() # copy given DataFrame to match size and column names\n",
    "    daily_returns[1:] = (df/df.shift(1)) - 1 #values divided by the following day, ty pandas!\n",
    "    daily_returns.iloc[0, :] = 0 #Pandas leaves the 0th row full of NaNs\n",
    "    return daily_returns\n",
    "\n",
    "def test_run():\n",
    "    \"\"\"Function called by Test Run.\"\"\"\n",
    "    # Read data\n",
    "    symbol_list = [\"SPY\"]  # list of symbols\n",
    "    start_date = \"2018-05-18\"\n",
    "    end_date = \"2019-05-17\"\n",
    "    dates = pd.date_range(start_date, end_date)  # date range as index\n",
    "    df = get_data(symbol_list, dates)  # get data for each symbol\n",
    "\n",
    "    #Compute Daily returns\n",
    "    daily_returns = compute_daily_returns(df)\n",
    "    plot_data(daily_returns, title='Daily returns', ylabel='Daily returns')\n",
    "    \n",
    "    #Plot a histogram\n",
    "    daily_returns.hist(bins=20) #changing no. of bins to 20\n",
    "    \n",
    "    \n",
    "    #6.6 get mean and standard deviation\n",
    "    mean = daily_returns['SPY'].mean()\n",
    "    print (\"mean=\", mean)\n",
    "    std = daily_returns['SPY'].std()\n",
    "    print (\"std=\", std)\n",
    "    \n",
    "    #Plot the stats\n",
    "    plt.axvline(mean,color='lightgrey', linestyle='dashed', linewidth=2)\n",
    "    plt.axvline(std,color='grey', linestyle='dashed', linewidth=2)\n",
    "    plt.axvline(-std,color='grey', linestyle='dashed', linewidth=2)\n",
    "    plt.show() \n",
    "    \n",
    "if __name__ == \"__main__\":\n",
    "    test_run()\n"
   ]
  },
  {
   "cell_type": "code",
   "execution_count": 3,
   "metadata": {},
   "outputs": [
    {
     "name": "stdout",
     "output_type": "stream",
     "text": [
      "INNT_beta: 0.2611054036568798\n",
      "INNT_alpha: 0.002926770649735673\n",
      "OTLK_beta: 0.2611054036568798\n",
      "OTLK_alpha: 0.002926770649735673\n"
     ]
    },
    {
     "data": {
      "image/png": "[encoded data removed]",
      "text/plain": [
       "<Figure size 432x288 with 1 Axes>"
      ]
     },
     "metadata": {
      "needs_background": "light"
     },
     "output_type": "display_data"
    },
    {
     "data": {
      "image/png": "[encoded data removed]",
      "text/plain": [
       "<Figure size 432x288 with 1 Axes>"
      ]
     },
     "metadata": {
      "needs_background": "light"
     },
     "output_type": "display_data"
    }
   ],
   "source": [
    "'''6.13 Scatterplots in Python''' ###NOT CORRELATING WELL< TRY daterange: ('2009-01-01','2012-12-31' XOM,GLD)\n",
    "\n",
    "\"\"\"Function called by Test Run.\"\"\"\n",
    "def test():\n",
    "    \n",
    "\n",
    "    #error if symbol_to_path is uncommented!!! IDK y?\n",
    "    #Define date range\n",
    "    start_date='2019-01-18'\n",
    "    end_date='2019-05-17'\n",
    "    dates=pd.date_range(start_date, end_date)\n",
    "\n",
    "    #Create an empty dataframe\n",
    "    df1 = pd.DataFrame(index=dates)\n",
    "\n",
    "    #Read SPY Data into temporary dataframe\n",
    "    dfSPY = pd.read_csv('SPY.csv', index_col='Date',\n",
    "                        parse_dates= True, usecols=['Date', 'High'],\n",
    "                        na_values=['nan'])\n",
    "\n",
    "    #Rename 'High' column to 'SPY' to prevent clash\n",
    "    dfSPY = dfSPY.rename(columns={'High':'SPY'})\n",
    "\n",
    "    #Join the two dataframes using DataFrame.join(), with how= 'inner'\n",
    "    df1=df1.join(dfSPY, how='inner')\n",
    "\n",
    "    #Read in more stocks\n",
    "\n",
    "    symbols = ['INNT', 'OTLK']\n",
    "    for symbol in symbols:\n",
    "        df_temp=pd.read_csv('{}.csv'.format(symbol), index_col = 'Date', #non_modular version still works kinda\n",
    "                            parse_dates = True, usecols=['Date','High'],\n",
    "                            na_values=['nan'])\n",
    "#         df_temp=pd.read_csv(symbol_to_path(symbol), index_col = 'Date',\n",
    "#                             parse_dates = True, usecols=['Date','High'],\n",
    "#                             na_values=['nan'])\n",
    "        #Rename to prevent clash\n",
    "        df_temp = df_temp.rename(columns={'High': symbol})\n",
    "        df1=df1.join(df_temp)\n",
    "\n",
    "\n",
    "#   #Compute Daily returns\n",
    "    daily_returns = compute_daily_returns(df1)\n",
    "    \n",
    "    #Scatterplot SPY vs INNT\n",
    "    daily_returns.plot(kind='scatter',x='SPY',y='INNT')\n",
    "    beta_INNT,alpha_INNT=np.polyfit(daily_returns['SPY'],daily_returns['INNT'],1)\n",
    "    plt.plot(daily_returns['SPY'], beta_INNT*daily_returns['SPY'] + alpha_INNT, '-',color='r')\n",
    "    \n",
    "    print(\"INNT_beta:\",beta_INNT)\n",
    "    print(\"INNT_alpha:\",alpha_INNT)\n",
    "    #Scatterplot SPY vs OTLK\n",
    " \n",
    "    \n",
    "    daily_returns.plot(kind='scatter',x='SPY',y='OTLK')\n",
    "    beta_OTLK,alpha_OTLK=np.polyfit(daily_returns['SPY'],daily_returns['INNT'],1)\n",
    "    plt.plot(daily_returns['SPY'], beta_INNT*daily_returns['SPY'] + alpha_INNT,'-',color='b')\n",
    "    print(\"OTLK_beta:\",beta_OTLK)\n",
    "    print(\"OTLK_alpha:\",alpha_OTLK)\n",
    "    \n",
    "    plt.show()\n",
    "if __name__ == \"__main__\":\n",
    "    test()\n"
   ]
  },
  {
   "cell_type": "code",
   "execution_count": null,
   "metadata": {},
   "outputs": [],
   "source": []
  },
  {
   "cell_type": "code",
   "execution_count": null,
   "metadata": {},
   "outputs": [],
   "source": []
  },
  {
   "cell_type": "code",
   "execution_count": null,
   "metadata": {},
   "outputs": [],
   "source": []
  },
  {
   "cell_type": "code",
   "execution_count": null,
   "metadata": {},
   "outputs": [],
   "source": []
  },
  {
   "cell_type": "code",
   "execution_count": null,
   "metadata": {},
   "outputs": [],
   "source": []
  },
  {
   "cell_type": "code",
   "execution_count": null,
   "metadata": {},
   "outputs": [],
   "source": []
  },
  {
   "cell_type": "code",
   "execution_count": null,
   "metadata": {},
   "outputs": [],
   "source": []
  },
  {
   "cell_type": "code",
   "execution_count": null,
   "metadata": {},
   "outputs": [],
   "source": []
  },
  {
   "cell_type": "code",
   "execution_count": null,
   "metadata": {},
   "outputs": [],
   "source": []
  }
 ],
 "metadata": {
  "kernelspec": {
   "display_name": "Python 3",
   "language": "python",
   "name": "python3"
  },
  "language_info": {
   "codemirror_mode": {
    "name": "ipython",
    "version": 3
   },
   "file_extension": ".py",
   "mimetype": "text/x-python",
   "name": "python",
   "nbconvert_exporter": "python",
   "pygments_lexer": "ipython3",
   "version": "3.6.8"
  }
 },
 "nbformat": 4,
 "nbformat_minor": 2
}
