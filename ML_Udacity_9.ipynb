{
 "cells": [
  {
   "cell_type": "code",
   "execution_count": 4,
   "metadata": {},
   "outputs": [],
   "source": [
    "'''Minimizer in Python''' ###import util you dumby\n",
    "import pandas as pd\n",
    "pd.core.common.is_list_like = pd.api.types.is_list_like\n",
    "import pandas_datareader as web\n",
    "import matplotlib.pyplot as plt\n",
    "import numpy as np\n",
    "import scipy.optimize as spo\n",
    "\n",
    "\n",
    "\n",
    "from matplotlib import style\n"
   ]
  },
  {
   "cell_type": "code",
   "execution_count": 5,
   "metadata": {
    "scrolled": false
   },
   "outputs": [
    {
     "name": "stdout",
     "output_type": "stream",
     "text": [
      "X = [2.], Y = [0.75]\n",
      "X = [2.], Y = [0.75]\n",
      "X = [2.00000001], Y = [0.75000001]\n",
      "X = [0.99999999], Y = [0.75000001]\n",
      "X = [1.5], Y = [0.5]\n",
      "X = [1.5], Y = [0.5]\n",
      "X = [1.50000001], Y = [0.5]\n",
      "Optimization terminated successfully.    (Exit mode 0)\n",
      "            Current function value: 0.5\n",
      "            Iterations: 2\n",
      "            Function evaluations: 7\n",
      "            Gradient evaluations: 2\n",
      "Minima found at:\n",
      "X = [1.5], Y = 0.5\n",
      "X = [0.5 0.6 0.7 0.8 0.9 1.  1.1 1.2 1.3 1.4 1.5 1.6 1.7 1.8 1.9 2.  2.1 2.2\n",
      " 2.3 2.4 2.5], Y = [1.5  1.31 1.14 0.99 0.86 0.75 0.66 0.59 0.54 0.51 0.5  0.51 0.54 0.59\n",
      " 0.66 0.75 0.86 0.99 1.14 1.31 1.5 ]\n"
     ]
    },
    {
     "data": {
      "image/png": "[encoded data removed]",
      "text/plain": [
       "<Figure size 432x288 with 1 Axes>"
      ]
     },
     "metadata": {
      "needs_background": "light"
     },
     "output_type": "display_data"
    }
   ],
   "source": [
    "'''Lesson 9.3 \\'Minimizer in Python' '''\n",
    "\n",
    "def f(X):# function to minimize\n",
    "    '''Given a scalar X, return some value (a real number)'''\n",
    "    Y = (X - 1.5)**2 + 0.5\n",
    "    print (\"X = {}, Y = {}\".format(X, Y)) # for tracking attempts\n",
    "    return Y\n",
    "def test_run():\n",
    "    Xguess = 2\n",
    "    min_result = spo.minimize(f, Xguess, method='SLSQP', options ={'disp':True})#minimizer\n",
    "    print (\"Minima found at:\")\n",
    "    print (\"X = {}, Y = {}\".format(min_result.x, min_result.fun))\n",
    "    \n",
    "    #plot function values, mark minima\n",
    "    Xplot = np.linspace(0.5, 2.5, 21) #(x1,x(-1), divisions)\n",
    "    Yplot = f(Xplot)\n",
    "    plt.plot(Xplot, Yplot) #plots the function\n",
    "    plt.plot(min_result.x, min_result.fun, 'ro')\n",
    "    plt.title(\"Minima of an objective function\")\n",
    "    plt.show()\n",
    "    \n",
    "if __name__=='__main__':\n",
    "    test_run()"
   ]
  },
  {
   "cell_type": "code",
   "execution_count": 6,
   "metadata": {
    "scrolled": true
   },
   "outputs": [
    {
     "ename": "AttributeError",
     "evalue": "module 'pandas' has no attribute 'csv_read'",
     "output_type": "error",
     "traceback": [
      "\u001b[0;31m---------------------------------------------------------------------------\u001b[0m",
      "\u001b[0;31mAttributeError\u001b[0m                            Traceback (most recent call last)",
      "\u001b[0;32m<ipython-input-6-d9145c481fe1>\u001b[0m in \u001b[0;36m<module>\u001b[0;34m\u001b[0m\n\u001b[1;32m     59\u001b[0m \u001b[0;34m\u001b[0m\u001b[0m\n\u001b[1;32m     60\u001b[0m \u001b[0;32mif\u001b[0m \u001b[0m__name__\u001b[0m\u001b[0;34m==\u001b[0m\u001b[0;34m'__main__'\u001b[0m\u001b[0;34m:\u001b[0m\u001b[0;34m\u001b[0m\u001b[0;34m\u001b[0m\u001b[0m\n\u001b[0;32m---> 61\u001b[0;31m     \u001b[0mtest_run\u001b[0m\u001b[0;34m(\u001b[0m\u001b[0;34m)\u001b[0m\u001b[0;34m\u001b[0m\u001b[0;34m\u001b[0m\u001b[0m\n\u001b[0m",
      "\u001b[0;32m<ipython-input-6-d9145c481fe1>\u001b[0m in \u001b[0;36mtest_run\u001b[0;34m()\u001b[0m\n\u001b[1;32m     36\u001b[0m \u001b[0;34m\u001b[0m\u001b[0m\n\u001b[1;32m     37\u001b[0m \u001b[0;32mdef\u001b[0m \u001b[0mtest_run\u001b[0m\u001b[0;34m(\u001b[0m\u001b[0;34m)\u001b[0m\u001b[0;34m:\u001b[0m\u001b[0;34m\u001b[0m\u001b[0;34m\u001b[0m\u001b[0m\n\u001b[0;32m---> 38\u001b[0;31m     \u001b[0mdata\u001b[0m \u001b[0;34m=\u001b[0m \u001b[0mpd\u001b[0m\u001b[0;34m.\u001b[0m\u001b[0mcsv_read\u001b[0m\u001b[0;34m(\u001b[0m\u001b[0;34m)\u001b[0m\u001b[0;34m\u001b[0m\u001b[0;34m\u001b[0m\u001b[0m\n\u001b[0m\u001b[1;32m     39\u001b[0m     \u001b[0;31m# Define original line\u001b[0m\u001b[0;34m\u001b[0m\u001b[0;34m\u001b[0m\u001b[0;34m\u001b[0m\u001b[0m\n\u001b[1;32m     40\u001b[0m     \u001b[0ml_orig\u001b[0m \u001b[0;34m=\u001b[0m \u001b[0mnp\u001b[0m\u001b[0;34m.\u001b[0m\u001b[0mfloat32\u001b[0m\u001b[0;34m(\u001b[0m\u001b[0;34m[\u001b[0m\u001b[0;36m4\u001b[0m\u001b[0;34m,\u001b[0m \u001b[0;36m2\u001b[0m\u001b[0;34m]\u001b[0m\u001b[0;34m)\u001b[0m \u001b[0;31m#(<C0>,<C1>) 2 element array slope=4, y-int=2\u001b[0m\u001b[0;34m\u001b[0m\u001b[0;34m\u001b[0m\u001b[0m\n",
      "\u001b[0;31mAttributeError\u001b[0m: module 'pandas' has no attribute 'csv_read'"
     ]
    }
   ],
   "source": [
    "'''9.9 Fit a line to given data points'''\n",
    "def error(line, data): #what function minimizer is trying to minimize\n",
    "    '''Compute error between give line model and observed data.\n",
    "    -----------\n",
    "    Parameters\n",
    "    line: tuple/list/array (C0, C1) where C0 is slope and C1 is Y-intercept\n",
    "    data: 2D array where each row is a point (x,y)\n",
    "    \n",
    "    Returns error as a single real value.\n",
    "    '''\n",
    "    #Metric: Sum of squared Y-axis differences\n",
    "    \n",
    "    err = np.sum((data[:,1] - (line[0] * data[:,0] + line[1])) ** 2) #(<real_data> minus the <estimate>)\n",
    "    return err \n",
    "\n",
    "\n",
    "def fit_line(data, error_func): \n",
    "    '''Fit a line to given data, using a supplied error function.\n",
    "    Parameters \n",
    "    ----------\n",
    "    data: 2D array where each row is a point (X0, Y)\n",
    "    error_func: fuction that computes the error between a line and observed data\n",
    "    Returns line that minimizes the error function.\n",
    "    '''\n",
    "    # Generate intial guess for line model\n",
    "    l = np.float32([0, np.mean(data[:, 1])]) #slope = 0, intercept = mean(y values..)\n",
    "\n",
    "    #Plot initial guess (optional)\n",
    "    x_ends = np.float32([-5, 5])\n",
    "    plt.plot(x_ends, l[0] * x_ends,  l[1], 'm--', linewidth=2.0, label='Initial guess')\n",
    "    \n",
    "    # Call optimizer to minimize erro function\n",
    "    result = spo.minimize(error, l, args =(data,), method='SLSQP', options={'disp':True})\n",
    "    return result.x\n",
    "\n",
    "\n",
    "def test_run():\n",
    "    data = pd.csv_read()\n",
    "    # Define original line\n",
    "    l_orig = np.float32([4, 2]) #(<C0>,<C1>) 2 element array slope=4, y-int=2\n",
    "    print (\"Original line: C0 = {},  C1 = {}\".format(l_orig[0], l_orig[1]))\n",
    "    Xorig = np.linspace(0, 10, 21) #generating x values -minimizer doesn't know\n",
    "    Yorig = l_orig[0] * Xorig + l_orig[1] #generating y values-minimizer doesn't know\n",
    "    plt.plot(Xorig, Yorig, 'b--', linewidth=2.0, label=\"Original line\")\n",
    "    \n",
    "    #Generate noisy data points\n",
    "    noise_sigma = 3.0\n",
    "    noise = np.random.normal(0, noise_sigma, Yorig.shape)\n",
    "    data = np.asarray([Xorig, Yorig + noise]).T # adding noise\n",
    "    plt.plot(data[:,0], data[:,1], 'go', label=\"Data points\")\n",
    "    \n",
    "    # try to fit a line to this data\n",
    "    l_fit = fit_line(data, error) #optimizer runs\n",
    "    print (\"Fitted line: C0 ={}, C1 = {}\".format(l_fit[0], l_fit[1]))\n",
    "    plt.plot(data[:, 0], l_fit[0] * data[:, 0] + l_fit[1], 'r--', linewidth=2.0, label=\"fit_line\")\n",
    "   \n",
    "    #Add axis labels and legend\n",
    "    plt.legend(loc='upper left')\n",
    "    \n",
    "if __name__=='__main__':\n",
    "    test_run()"
   ]
  },
  {
   "cell_type": "code",
   "execution_count": null,
   "metadata": {},
   "outputs": [],
   "source": [
    "''' https://github.com/ChakoChen/Machine-Learning-for-Trading \n",
    "\n",
    "compare: \n",
    "    https://github.com/joelowj/Machine-Learning-and-Reinforcement-Learning-in-Finance\n",
    "'''\n",
    "def error_poly(C, data):\n",
    "    \"\"\"Compute error between given polynomial and observed data.\n",
    "    Parameters\n",
    "    ----------\n",
    "    C: numpy.poly1d object or equivalent array representing polynomial coefficients\n",
    "    data: 2D array where each row is a point (x, y)\n",
    "    Returns error as a single real value.\n",
    "    \"\"\"\n",
    "    y = data[:, 1]\n",
    "    x = data[:, 0]\n",
    "    \n",
    "    # Metric: Sum of squared Y-axis differences\n",
    "    err = np.sum((y - np.polyval(C, x)) ** 2)\n",
    "    return err\n",
    "\n",
    "\n",
    "def fit_poly(data, error_func, degree=4):\n",
    "    \"\"\"Fit a polynomial to given data, using supplied error function.\n",
    "    Parameters\n",
    "    ----------\n",
    "    data: 2D array where each row is a point (x, y)\n",
    "    error_func: function that computes the error between a polynomial and observed data\n",
    "    Returns polynomial that minimizes the error function.\n",
    "    \"\"\"\n",
    "\n",
    "    # Generate initial guess for polynomial model \n",
    "    Cguess = np.poly1d(np.ones(degree + 1, dtype=np.float32)) #(all coeffs = 1)\n",
    "\n",
    "    # Plot initial guess (optional)\n",
    "    x = np.linspace(-6, 6, 21)\n",
    "    plt.plot(x, np.polyval(Cguess, x), 'm--', linewidth=2.0, label=\"Initial guess\")\n",
    "\n",
    "    # Call optimizer to minimize error function\n",
    "    result = spo.minimize(error_poly, Cguess, args=(data,), method='SLSQP', options={'disp': True})\n",
    "    return np.poly1d(result.x)  # convert optimal result into a poly1d obeject and return\n",
    "\n",
    "\n",
    "def test_run():\n",
    "    # Define original polynomial\n",
    "    Corig = np.poly1d([1.5, -10, -5, 60, 50])\n",
    "    print('Og poly:\\n', np.poly1d(Corig))\n",
    "#     print(\"Original polynomial: {}*x^4 + {}*x^3 + {}*x^2 + {}*x + {}\".format(Corig[4], Corig[3], Corig[2], Corig[1], Corig[0]))\n",
    "    Xorig = np.linspace(-6, 6, 21)\n",
    "    Yorig = np.polyval(Corig, Xorig)\n",
    "    plt.plot(Xorig, Yorig, 'b--', linewidth=2.0, label=\"Original polynomial\")\n",
    "\n",
    "    # Generate noisy data points\n",
    "    noise_sigma = 30.0\n",
    "    noise = np.random.normal(0, noise_sigma, Yorig.shape)\n",
    "    data = np.asarray([Xorig, Yorig + noise]).T  # Convert the input to an array, then transpose\n",
    "    plt.plot(data[:, 0], data[:, 1], 'go', label=\"Data points\")\n",
    "\n",
    "    # Try to fit a polynomial to this data\n",
    "    Cfit = fit_poly(data, error_poly)\n",
    "    print(\"Fitted polynomial:\\n\", np.poly1d(Cfit))\n",
    "    #print(\"Fitted polynomial: {}*x^4 + {}*x^3 + {}*x^2 + {}*x + {}\".format(Cfit[4], Cfit[3], Cfit[2], Cfit[1], Cfit[0]))\n",
    "    plt.plot(data[:, 0], np.polyval(Cfit, data[:, 0]), 'r--', linewidth=2.0, label=\"Fitted polynomial\")\n",
    "\n",
    "    # Add a legend and show plot\n",
    "    plt.legend()\n",
    "    plt.show()\n",
    "\n",
    "\n",
    "if __name__ == \"__main__\":\n",
    "    test_run()"
   ]
  },
  {
   "cell_type": "code",
   "execution_count": null,
   "metadata": {},
   "outputs": [],
   "source": []
  },
  {
   "cell_type": "code",
   "execution_count": null,
   "metadata": {},
   "outputs": [],
   "source": []
  },
  {
   "cell_type": "code",
   "execution_count": null,
   "metadata": {},
   "outputs": [],
   "source": []
  },
  {
   "cell_type": "code",
   "execution_count": null,
   "metadata": {},
   "outputs": [],
   "source": []
  },
  {
   "cell_type": "code",
   "execution_count": null,
   "metadata": {},
   "outputs": [],
   "source": []
  },
  {
   "cell_type": "code",
   "execution_count": null,
   "metadata": {},
   "outputs": [],
   "source": []
  },
  {
   "cell_type": "code",
   "execution_count": null,
   "metadata": {},
   "outputs": [],
   "source": []
  },
  {
   "cell_type": "code",
   "execution_count": null,
   "metadata": {},
   "outputs": [],
   "source": []
  },
  {
   "cell_type": "code",
   "execution_count": null,
   "metadata": {},
   "outputs": [],
   "source": []
  },
  {
   "cell_type": "code",
   "execution_count": null,
   "metadata": {},
   "outputs": [],
   "source": []
  }
 ],
 "metadata": {
  "kernelspec": {
   "display_name": "Python 3",
   "language": "python",
   "name": "python3"
  },
  "language_info": {
   "codemirror_mode": {
    "name": "ipython",
    "version": 3
   },
   "file_extension": ".py",
   "mimetype": "text/x-python",
   "name": "python",
   "nbconvert_exporter": "python",
   "pygments_lexer": "ipython3",
   "version": "3.6.8"
  }
 },
 "nbformat": 4,
 "nbformat_minor": 2
}
